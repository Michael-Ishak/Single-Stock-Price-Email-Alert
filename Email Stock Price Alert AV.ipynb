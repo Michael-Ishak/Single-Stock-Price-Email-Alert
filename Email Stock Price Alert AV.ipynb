{
 "cells": [
  {
   "cell_type": "code",
   "execution_count": 14,
   "id": "fe15a672",
   "metadata": {},
   "outputs": [],
   "source": [
    "import pandas as pd #data manipulation and analysis package\n",
    "from alpha_vantage.timeseries import TimeSeries #enables data pull from Alpha Vantage\n",
    "import matplotlib.pyplot as plt #if you want to plot your findings\n",
    "import time\n",
    "import schedule\n",
    "import smtplib #enables you to send emails"
   ]
  },
  {
   "cell_type": "code",
   "execution_count": 15,
   "id": "af280832",
   "metadata": {},
   "outputs": [],
   "source": [
    "#Getting the data from alpha_vantage\n",
    "ts = TimeSeries(key='XXXXXXXXX', output_format='pandas')\n",
    "data, meta_data = ts.get_intraday(symbol='MSFT',interval='1min', outputsize='full') #MSFT is microsoft stock and 1min is how often it pulls data"
   ]
  },
  {
   "cell_type": "code",
   "execution_count": 16,
   "id": "d18841a7",
   "metadata": {},
   "outputs": [
    {
     "name": "stdout",
     "output_type": "stream",
     "text": [
      "259.7\n"
     ]
    }
   ],
   "source": [
    "#We are currently interested in the latest price\n",
    "close_data = data['4. close'] #The close data column\n",
    "last_price = close_data[0] #Selecting the last price from the close_data column, indexing here is the opposite, 0 is the last price\n",
    "#Check if you're getting a correct value\n",
    "print(last_price)\n",
    "target_price = 376.5"
   ]
  },
  {
   "cell_type": "code",
   "execution_count": 17,
   "id": "db7308ba",
   "metadata": {},
   "outputs": [],
   "source": [
    "#Set the desired message you want to see once the stock price is at a certain level\n",
    "sender_email = \"xxxxx@outlook.com\" #The sender email, hotmail is original, outlook is backup\n",
    "rec_email = \"xxxxx@yahoo.com\" #The receiver email\n",
    "password = (\"abcdefgh\") #The password to the sender email\n",
    "message = \"STOCK ALERT! The stock is above the % price you set \" + \"%.6f\" % last_price  #The message you want to send"
   ]
  },
  {
   "cell_type": "code",
   "execution_count": 18,
   "id": "410faabc",
   "metadata": {},
   "outputs": [
    {
     "name": "stdout",
     "output_type": "stream",
     "text": [
      "395.325\n"
     ]
    }
   ],
   "source": [
    "target_percent_change = target_price/20 + current_price\n",
    "print(target_percent_change)"
   ]
  },
  {
   "cell_type": "code",
   "execution_count": 19,
   "id": "bfdc44e4",
   "metadata": {},
   "outputs": [],
   "source": [
    "#target_sell_price = 220 #enter the price you want to sell at\n",
    "def alert():\n",
    "    if last_price > target_percent_change_5:\n",
    "        server = smtplib.SMTP('smtp.gmail.com', 587)\n",
    "        server.starttls()\n",
    "        erver.login(sender_email, password) #logs into your email account\n",
    "        print(\"Login Success\") #confirms that you have logged in succesfully\n",
    "        server.sendmail(sender_email, rec_email, message) #send the email with your custom mesage\n",
    "        print(\"Email was sent\") #confirms that the email was sent\n",
    "    else:\n",
    "        print(\"Mastercard has not hit +5%\")"
   ]
  },
  {
   "cell_type": "code",
   "execution_count": 20,
   "id": "4233562d",
   "metadata": {},
   "outputs": [
    {
     "name": "stdout",
     "output_type": "stream",
     "text": [
      "Mastercard has not hit +5%\n"
     ]
    }
   ],
   "source": [
    "alert()"
   ]
  },
  {
   "cell_type": "code",
   "execution_count": 13,
   "id": "ae924113",
   "metadata": {},
   "outputs": [
    {
     "ename": "KeyboardInterrupt",
     "evalue": "",
     "output_type": "error",
     "traceback": [
      "\u001b[1;31m---------------------------------------------------------------------------\u001b[0m",
      "\u001b[1;31mKeyboardInterrupt\u001b[0m                         Traceback (most recent call last)",
      "\u001b[1;32m<ipython-input-13-25ee8f200378>\u001b[0m in \u001b[0;36m<module>\u001b[1;34m\u001b[0m\n\u001b[0;32m      8\u001b[0m \u001b[1;32mwhile\u001b[0m \u001b[1;32mTrue\u001b[0m\u001b[1;33m:\u001b[0m\u001b[1;33m\u001b[0m\u001b[1;33m\u001b[0m\u001b[0m\n\u001b[0;32m      9\u001b[0m     \u001b[0mschedule\u001b[0m\u001b[1;33m.\u001b[0m\u001b[0mrun_pending\u001b[0m\u001b[1;33m(\u001b[0m\u001b[1;33m)\u001b[0m\u001b[1;33m\u001b[0m\u001b[1;33m\u001b[0m\u001b[0m\n\u001b[1;32m---> 10\u001b[1;33m     \u001b[0mtime\u001b[0m\u001b[1;33m.\u001b[0m\u001b[0msleep\u001b[0m\u001b[1;33m(\u001b[0m\u001b[1;36m1\u001b[0m\u001b[1;33m)\u001b[0m\u001b[1;33m\u001b[0m\u001b[1;33m\u001b[0m\u001b[0m\n\u001b[0m",
      "\u001b[1;31mKeyboardInterrupt\u001b[0m: "
     ]
    }
   ],
   "source": [
    "# SCHEDULE WHEN TO RUN EVERYTHING\n",
    "## The schedule does not clear even if you cancel a run and start it again so need to clear the schedule every time it is run and then re-declare the schedule\n",
    "schedule.clear()\n",
    "\n",
    "schedule.every().day.at(\"14:30\").do(alert)\n",
    "\n",
    "# Keep the schedule running perpetually. The while loop checks if there is task the scheduler must run.\n",
    "while True:\n",
    "    schedule.run_pending()\n",
    "    time.sleep(1)"
   ]
  }
 ],
 "metadata": {
  "kernelspec": {
   "display_name": "Python 3",
   "language": "python",
   "name": "python3"
  },
  "language_info": {
   "codemirror_mode": {
    "name": "ipython",
    "version": 3
   },
   "file_extension": ".py",
   "mimetype": "text/x-python",
   "name": "python",
   "nbconvert_exporter": "python",
   "pygments_lexer": "ipython3",
   "version": "3.8.8"
  }
 },
 "nbformat": 4,
 "nbformat_minor": 5
}
